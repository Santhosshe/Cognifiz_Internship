{
 "cells": [
  {
   "cell_type": "markdown",
   "id": "095396bc-c167-49fe-950f-4147929d8ad4",
   "metadata": {},
   "source": [
    "# LEVEL 1"
   ]
  },
  {
   "cell_type": "code",
   "execution_count": 2,
   "id": "34c44a8c-fa05-48e1-a5e2-edaa4ab32fc2",
   "metadata": {},
   "outputs": [],
   "source": [
    "import pandas as pd \n",
    "import numpy as np\n",
    "import matplotlib.pyplot as plt\n",
    "import seaborn as sns"
   ]
  },
  {
   "cell_type": "code",
   "execution_count": 3,
   "id": "04ceb11d-cccd-445f-a3a7-66a1a161f6b8",
   "metadata": {},
   "outputs": [],
   "source": [
    "df=pd.read_csv(\"Dataset.csv\")"
   ]
  },
  {
   "cell_type": "markdown",
   "id": "eff77949-f467-4ef3-99c8-f262cd25fc4c",
   "metadata": {},
   "source": [
    "## EDA"
   ]
  },
  {
   "cell_type": "code",
   "execution_count": 4,
   "id": "9f70f5b1-f579-4926-af2d-2d2ae58d327b",
   "metadata": {},
   "outputs": [
    {
     "data": {
      "text/html": [
       "<div>\n",
       "<style scoped>\n",
       "    .dataframe tbody tr th:only-of-type {\n",
       "        vertical-align: middle;\n",
       "    }\n",
       "\n",
       "    .dataframe tbody tr th {\n",
       "        vertical-align: top;\n",
       "    }\n",
       "\n",
       "    .dataframe thead th {\n",
       "        text-align: right;\n",
       "    }\n",
       "</style>\n",
       "<table border=\"1\" class=\"dataframe\">\n",
       "  <thead>\n",
       "    <tr style=\"text-align: right;\">\n",
       "      <th></th>\n",
       "      <th>Restaurant ID</th>\n",
       "      <th>Restaurant Name</th>\n",
       "      <th>Country Code</th>\n",
       "      <th>City</th>\n",
       "      <th>Address</th>\n",
       "      <th>Locality</th>\n",
       "      <th>Locality Verbose</th>\n",
       "      <th>Longitude</th>\n",
       "      <th>Latitude</th>\n",
       "      <th>Cuisines</th>\n",
       "      <th>...</th>\n",
       "      <th>Currency</th>\n",
       "      <th>Has Table booking</th>\n",
       "      <th>Has Online delivery</th>\n",
       "      <th>Is delivering now</th>\n",
       "      <th>Switch to order menu</th>\n",
       "      <th>Price range</th>\n",
       "      <th>Aggregate rating</th>\n",
       "      <th>Rating color</th>\n",
       "      <th>Rating text</th>\n",
       "      <th>Votes</th>\n",
       "    </tr>\n",
       "  </thead>\n",
       "  <tbody>\n",
       "    <tr>\n",
       "      <th>0</th>\n",
       "      <td>6317637</td>\n",
       "      <td>Le Petit Souffle</td>\n",
       "      <td>162</td>\n",
       "      <td>Makati City</td>\n",
       "      <td>Third Floor, Century City Mall, Kalayaan Avenu...</td>\n",
       "      <td>Century City Mall, Poblacion, Makati City</td>\n",
       "      <td>Century City Mall, Poblacion, Makati City, Mak...</td>\n",
       "      <td>121.027535</td>\n",
       "      <td>14.565443</td>\n",
       "      <td>French, Japanese, Desserts</td>\n",
       "      <td>...</td>\n",
       "      <td>Botswana Pula(P)</td>\n",
       "      <td>Yes</td>\n",
       "      <td>No</td>\n",
       "      <td>No</td>\n",
       "      <td>No</td>\n",
       "      <td>3</td>\n",
       "      <td>4.8</td>\n",
       "      <td>Dark Green</td>\n",
       "      <td>Excellent</td>\n",
       "      <td>314</td>\n",
       "    </tr>\n",
       "    <tr>\n",
       "      <th>1</th>\n",
       "      <td>6304287</td>\n",
       "      <td>Izakaya Kikufuji</td>\n",
       "      <td>162</td>\n",
       "      <td>Makati City</td>\n",
       "      <td>Little Tokyo, 2277 Chino Roces Avenue, Legaspi...</td>\n",
       "      <td>Little Tokyo, Legaspi Village, Makati City</td>\n",
       "      <td>Little Tokyo, Legaspi Village, Makati City, Ma...</td>\n",
       "      <td>121.014101</td>\n",
       "      <td>14.553708</td>\n",
       "      <td>Japanese</td>\n",
       "      <td>...</td>\n",
       "      <td>Botswana Pula(P)</td>\n",
       "      <td>Yes</td>\n",
       "      <td>No</td>\n",
       "      <td>No</td>\n",
       "      <td>No</td>\n",
       "      <td>3</td>\n",
       "      <td>4.5</td>\n",
       "      <td>Dark Green</td>\n",
       "      <td>Excellent</td>\n",
       "      <td>591</td>\n",
       "    </tr>\n",
       "    <tr>\n",
       "      <th>2</th>\n",
       "      <td>6300002</td>\n",
       "      <td>Heat - Edsa Shangri-La</td>\n",
       "      <td>162</td>\n",
       "      <td>Mandaluyong City</td>\n",
       "      <td>Edsa Shangri-La, 1 Garden Way, Ortigas, Mandal...</td>\n",
       "      <td>Edsa Shangri-La, Ortigas, Mandaluyong City</td>\n",
       "      <td>Edsa Shangri-La, Ortigas, Mandaluyong City, Ma...</td>\n",
       "      <td>121.056831</td>\n",
       "      <td>14.581404</td>\n",
       "      <td>Seafood, Asian, Filipino, Indian</td>\n",
       "      <td>...</td>\n",
       "      <td>Botswana Pula(P)</td>\n",
       "      <td>Yes</td>\n",
       "      <td>No</td>\n",
       "      <td>No</td>\n",
       "      <td>No</td>\n",
       "      <td>4</td>\n",
       "      <td>4.4</td>\n",
       "      <td>Green</td>\n",
       "      <td>Very Good</td>\n",
       "      <td>270</td>\n",
       "    </tr>\n",
       "    <tr>\n",
       "      <th>3</th>\n",
       "      <td>6318506</td>\n",
       "      <td>Ooma</td>\n",
       "      <td>162</td>\n",
       "      <td>Mandaluyong City</td>\n",
       "      <td>Third Floor, Mega Fashion Hall, SM Megamall, O...</td>\n",
       "      <td>SM Megamall, Ortigas, Mandaluyong City</td>\n",
       "      <td>SM Megamall, Ortigas, Mandaluyong City, Mandal...</td>\n",
       "      <td>121.056475</td>\n",
       "      <td>14.585318</td>\n",
       "      <td>Japanese, Sushi</td>\n",
       "      <td>...</td>\n",
       "      <td>Botswana Pula(P)</td>\n",
       "      <td>No</td>\n",
       "      <td>No</td>\n",
       "      <td>No</td>\n",
       "      <td>No</td>\n",
       "      <td>4</td>\n",
       "      <td>4.9</td>\n",
       "      <td>Dark Green</td>\n",
       "      <td>Excellent</td>\n",
       "      <td>365</td>\n",
       "    </tr>\n",
       "    <tr>\n",
       "      <th>4</th>\n",
       "      <td>6314302</td>\n",
       "      <td>Sambo Kojin</td>\n",
       "      <td>162</td>\n",
       "      <td>Mandaluyong City</td>\n",
       "      <td>Third Floor, Mega Atrium, SM Megamall, Ortigas...</td>\n",
       "      <td>SM Megamall, Ortigas, Mandaluyong City</td>\n",
       "      <td>SM Megamall, Ortigas, Mandaluyong City, Mandal...</td>\n",
       "      <td>121.057508</td>\n",
       "      <td>14.584450</td>\n",
       "      <td>Japanese, Korean</td>\n",
       "      <td>...</td>\n",
       "      <td>Botswana Pula(P)</td>\n",
       "      <td>Yes</td>\n",
       "      <td>No</td>\n",
       "      <td>No</td>\n",
       "      <td>No</td>\n",
       "      <td>4</td>\n",
       "      <td>4.8</td>\n",
       "      <td>Dark Green</td>\n",
       "      <td>Excellent</td>\n",
       "      <td>229</td>\n",
       "    </tr>\n",
       "  </tbody>\n",
       "</table>\n",
       "<p>5 rows × 21 columns</p>\n",
       "</div>"
      ],
      "text/plain": [
       "   Restaurant ID         Restaurant Name  Country Code              City  \\\n",
       "0        6317637        Le Petit Souffle           162       Makati City   \n",
       "1        6304287        Izakaya Kikufuji           162       Makati City   \n",
       "2        6300002  Heat - Edsa Shangri-La           162  Mandaluyong City   \n",
       "3        6318506                    Ooma           162  Mandaluyong City   \n",
       "4        6314302             Sambo Kojin           162  Mandaluyong City   \n",
       "\n",
       "                                             Address  \\\n",
       "0  Third Floor, Century City Mall, Kalayaan Avenu...   \n",
       "1  Little Tokyo, 2277 Chino Roces Avenue, Legaspi...   \n",
       "2  Edsa Shangri-La, 1 Garden Way, Ortigas, Mandal...   \n",
       "3  Third Floor, Mega Fashion Hall, SM Megamall, O...   \n",
       "4  Third Floor, Mega Atrium, SM Megamall, Ortigas...   \n",
       "\n",
       "                                     Locality  \\\n",
       "0   Century City Mall, Poblacion, Makati City   \n",
       "1  Little Tokyo, Legaspi Village, Makati City   \n",
       "2  Edsa Shangri-La, Ortigas, Mandaluyong City   \n",
       "3      SM Megamall, Ortigas, Mandaluyong City   \n",
       "4      SM Megamall, Ortigas, Mandaluyong City   \n",
       "\n",
       "                                    Locality Verbose   Longitude   Latitude  \\\n",
       "0  Century City Mall, Poblacion, Makati City, Mak...  121.027535  14.565443   \n",
       "1  Little Tokyo, Legaspi Village, Makati City, Ma...  121.014101  14.553708   \n",
       "2  Edsa Shangri-La, Ortigas, Mandaluyong City, Ma...  121.056831  14.581404   \n",
       "3  SM Megamall, Ortigas, Mandaluyong City, Mandal...  121.056475  14.585318   \n",
       "4  SM Megamall, Ortigas, Mandaluyong City, Mandal...  121.057508  14.584450   \n",
       "\n",
       "                           Cuisines  ...          Currency Has Table booking  \\\n",
       "0        French, Japanese, Desserts  ...  Botswana Pula(P)               Yes   \n",
       "1                          Japanese  ...  Botswana Pula(P)               Yes   \n",
       "2  Seafood, Asian, Filipino, Indian  ...  Botswana Pula(P)               Yes   \n",
       "3                   Japanese, Sushi  ...  Botswana Pula(P)                No   \n",
       "4                  Japanese, Korean  ...  Botswana Pula(P)               Yes   \n",
       "\n",
       "  Has Online delivery Is delivering now Switch to order menu Price range  \\\n",
       "0                  No                No                   No           3   \n",
       "1                  No                No                   No           3   \n",
       "2                  No                No                   No           4   \n",
       "3                  No                No                   No           4   \n",
       "4                  No                No                   No           4   \n",
       "\n",
       "   Aggregate rating  Rating color Rating text Votes  \n",
       "0               4.8    Dark Green   Excellent   314  \n",
       "1               4.5    Dark Green   Excellent   591  \n",
       "2               4.4         Green   Very Good   270  \n",
       "3               4.9    Dark Green   Excellent   365  \n",
       "4               4.8    Dark Green   Excellent   229  \n",
       "\n",
       "[5 rows x 21 columns]"
      ]
     },
     "execution_count": 4,
     "metadata": {},
     "output_type": "execute_result"
    }
   ],
   "source": [
    "df.head()"
   ]
  },
  {
   "cell_type": "code",
   "execution_count": 5,
   "id": "cef55b5a-1950-43d7-9a16-858a3f6326b4",
   "metadata": {},
   "outputs": [
    {
     "name": "stdout",
     "output_type": "stream",
     "text": [
      "<class 'pandas.core.frame.DataFrame'>\n",
      "RangeIndex: 9551 entries, 0 to 9550\n",
      "Data columns (total 21 columns):\n",
      " #   Column                Non-Null Count  Dtype  \n",
      "---  ------                --------------  -----  \n",
      " 0   Restaurant ID         9551 non-null   int64  \n",
      " 1   Restaurant Name       9551 non-null   object \n",
      " 2   Country Code          9551 non-null   int64  \n",
      " 3   City                  9551 non-null   object \n",
      " 4   Address               9551 non-null   object \n",
      " 5   Locality              9551 non-null   object \n",
      " 6   Locality Verbose      9551 non-null   object \n",
      " 7   Longitude             9551 non-null   float64\n",
      " 8   Latitude              9551 non-null   float64\n",
      " 9   Cuisines              9542 non-null   object \n",
      " 10  Average Cost for two  9551 non-null   int64  \n",
      " 11  Currency              9551 non-null   object \n",
      " 12  Has Table booking     9551 non-null   object \n",
      " 13  Has Online delivery   9551 non-null   object \n",
      " 14  Is delivering now     9551 non-null   object \n",
      " 15  Switch to order menu  9551 non-null   object \n",
      " 16  Price range           9551 non-null   int64  \n",
      " 17  Aggregate rating      9551 non-null   float64\n",
      " 18  Rating color          9551 non-null   object \n",
      " 19  Rating text           9551 non-null   object \n",
      " 20  Votes                 9551 non-null   int64  \n",
      "dtypes: float64(3), int64(5), object(13)\n",
      "memory usage: 1.5+ MB\n"
     ]
    }
   ],
   "source": [
    "df.info()"
   ]
  },
  {
   "cell_type": "code",
   "execution_count": 6,
   "id": "e1a7ce1a-1403-42cb-b5b3-84347fe38c9f",
   "metadata": {},
   "outputs": [
    {
     "data": {
      "text/plain": [
       "Index(['Restaurant ID', 'Restaurant Name', 'Country Code', 'City', 'Address',\n",
       "       'Locality', 'Locality Verbose', 'Longitude', 'Latitude', 'Cuisines',\n",
       "       'Average Cost for two', 'Currency', 'Has Table booking',\n",
       "       'Has Online delivery', 'Is delivering now', 'Switch to order menu',\n",
       "       'Price range', 'Aggregate rating', 'Rating color', 'Rating text',\n",
       "       'Votes'],\n",
       "      dtype='object')"
      ]
     },
     "execution_count": 6,
     "metadata": {},
     "output_type": "execute_result"
    }
   ],
   "source": [
    "df.columns"
   ]
  },
  {
   "cell_type": "code",
   "execution_count": 7,
   "id": "72ea8c06-4938-42be-aaee-18cc7b82af20",
   "metadata": {},
   "outputs": [
    {
     "data": {
      "text/plain": [
       "(9551, 21)"
      ]
     },
     "execution_count": 7,
     "metadata": {},
     "output_type": "execute_result"
    }
   ],
   "source": [
    "df.shape"
   ]
  },
  {
   "cell_type": "code",
   "execution_count": 8,
   "id": "5e7f7f4c-405e-4f64-8f28-48b7c2529909",
   "metadata": {},
   "outputs": [
    {
     "data": {
      "text/plain": [
       "Restaurant ID           0\n",
       "Restaurant Name         0\n",
       "Country Code            0\n",
       "City                    0\n",
       "Address                 0\n",
       "Locality                0\n",
       "Locality Verbose        0\n",
       "Longitude               0\n",
       "Latitude                0\n",
       "Cuisines                9\n",
       "Average Cost for two    0\n",
       "Currency                0\n",
       "Has Table booking       0\n",
       "Has Online delivery     0\n",
       "Is delivering now       0\n",
       "Switch to order menu    0\n",
       "Price range             0\n",
       "Aggregate rating        0\n",
       "Rating color            0\n",
       "Rating text             0\n",
       "Votes                   0\n",
       "dtype: int64"
      ]
     },
     "execution_count": 8,
     "metadata": {},
     "output_type": "execute_result"
    }
   ],
   "source": [
    "df.isnull().sum()"
   ]
  },
  {
   "cell_type": "markdown",
   "id": "8263166f-1970-46c9-a328-911ccd1746bd",
   "metadata": {},
   "source": [
    "##### From this we can infer that there is no null values present in the dataset"
   ]
  },
  {
   "cell_type": "markdown",
   "id": "9dc1b596-2a80-4ccd-be49-5ebc05bd6287",
   "metadata": {},
   "source": [
    "## TASK 1"
   ]
  },
  {
   "cell_type": "code",
   "execution_count": 9,
   "id": "c7ed2b18-76b1-4828-977b-192fea36af24",
   "metadata": {},
   "outputs": [
    {
     "data": {
      "text/plain": [
       "Restaurant Name\n",
       "Cafe Coffee Day    83\n",
       "Domino's Pizza     79\n",
       "Subway             63\n",
       "Name: count, dtype: int64"
      ]
     },
     "execution_count": 9,
     "metadata": {},
     "output_type": "execute_result"
    }
   ],
   "source": [
    "rec=df['Restaurant Name'].value_counts()\n",
    "res=rec.index\n",
    "rec.head(3)\n",
    "    "
   ]
  },
  {
   "cell_type": "markdown",
   "id": "42c64fa8-5ad2-4fb9-b20d-18fb5350ac70",
   "metadata": {},
   "source": [
    "#### Determine the top three most common cuisines in the dataset.."
   ]
  },
  {
   "cell_type": "code",
   "execution_count": 10,
   "id": "3b83cff5-b01a-47f7-82e9-2ad0891774cb",
   "metadata": {},
   "outputs": [
    {
     "data": {
      "text/plain": [
       "Cuisines\n",
       "North Indian             936\n",
       "North Indian, Chinese    511\n",
       "Chinese                  354\n",
       "Name: count, dtype: int64"
      ]
     },
     "execution_count": 10,
     "metadata": {},
     "output_type": "execute_result"
    }
   ],
   "source": [
    "new=df['Cuisines'].value_counts()\n",
    "top_3=new.head(3)\n",
    "top_3"
   ]
  },
  {
   "cell_type": "markdown",
   "id": "c17e2beb-e5d9-4111-9125-b7e6d398a834",
   "metadata": {},
   "source": [
    "##### Calculate the percentage of \n",
    "restaurants that serve each of the to \r\n",
    "cuisines."
   ]
  },
  {
   "cell_type": "code",
   "execution_count": 11,
   "id": "87159f0f-a34a-4471-8095-d029c681e454",
   "metadata": {},
   "outputs": [],
   "source": [
    "length=len(df)"
   ]
  },
  {
   "cell_type": "code",
   "execution_count": 12,
   "id": "81b6341c-3e7b-4e9c-bae5-ca91d3761f72",
   "metadata": {},
   "outputs": [
    {
     "data": {
      "text/plain": [
       "Cuisines\n",
       "North Indian    9.800021\n",
       "Name: count, dtype: float64"
      ]
     },
     "execution_count": 12,
     "metadata": {},
     "output_type": "execute_result"
    }
   ],
   "source": [
    "## percentage of top 1 common cuisines\n",
    "per=top_3.head(1)/length*100\n",
    "per"
   ]
  },
  {
   "cell_type": "code",
   "execution_count": 13,
   "id": "2c8e66d6-1a1a-4847-99fd-ecd8578fff75",
   "metadata": {},
   "outputs": [
    {
     "data": {
      "text/plain": [
       "Cuisines\n",
       "North Indian             9.800021\n",
       "North Indian, Chinese    5.350225\n",
       "Chinese                  3.706418\n",
       "Name: count, dtype: float64"
      ]
     },
     "execution_count": 13,
     "metadata": {},
     "output_type": "execute_result"
    }
   ],
   "source": [
    "percent=(top_3/length)*100\n",
    "percent"
   ]
  },
  {
   "cell_type": "markdown",
   "id": "1888beb0-5a32-458c-a952-c91dd542374a",
   "metadata": {},
   "source": [
    "## TASK 2"
   ]
  },
  {
   "cell_type": "markdown",
   "id": "578e7a25-7ffe-48f8-be95-0b5a03b90ab8",
   "metadata": {},
   "source": [
    "####  Identify the city with the highest number of restaurants in the dataset"
   ]
  },
  {
   "cell_type": "code",
   "execution_count": 14,
   "id": "2d8d2e1d-c4e1-4288-a9c4-c02b69d26385",
   "metadata": {},
   "outputs": [
    {
     "name": "stdout",
     "output_type": "stream",
     "text": [
      "New Delhi 5473\n"
     ]
    }
   ],
   "source": [
    "city=df.groupby('City')['Restaurant Name'].count()\n",
    "neww=city.idxmax()\n",
    "print(neww,city.max())"
   ]
  },
  {
   "cell_type": "code",
   "execution_count": 15,
   "id": "f63427b8-262a-4885-b855-7788dc09893f",
   "metadata": {},
   "outputs": [
    {
     "data": {
      "text/plain": [
       "7446"
      ]
     },
     "execution_count": 15,
     "metadata": {},
     "output_type": "execute_result"
    }
   ],
   "source": [
    "df['Restaurant Name'].nunique()"
   ]
  },
  {
   "cell_type": "markdown",
   "id": "9c571071-29cd-4a17-bd2b-bdc39980f4cd",
   "metadata": {},
   "source": [
    "#### Calculate the average rating for restaurants in each city."
   ]
  },
  {
   "cell_type": "code",
   "execution_count": 16,
   "id": "555ecd5b-97b1-4c34-8454-497761cdd5ac",
   "metadata": {},
   "outputs": [
    {
     "data": {
      "text/plain": [
       "City\n",
       "Abu Dhabi    4.300000\n",
       "Agra         3.965000\n",
       "Ahmedabad    4.161905\n",
       "Albany       3.555000\n",
       "Allahabad    3.395000\n",
       "Amritsar     3.685714\n",
       "Ankara       4.305000\n",
       "Armidale     3.500000\n",
       "Athens       4.200000\n",
       "Auckland     4.275000\n",
       "Name: Aggregate rating, dtype: float64"
      ]
     },
     "execution_count": 16,
     "metadata": {},
     "output_type": "execute_result"
    }
   ],
   "source": [
    "ans=df.groupby('City')['Aggregate rating'].mean()\n",
    "ans.head(10)"
   ]
  },
  {
   "cell_type": "markdown",
   "id": "e1bc7a5f-caa1-49e7-b68b-348624b5ac19",
   "metadata": {},
   "source": [
    "#### Determine the city with the highest average rating."
   ]
  },
  {
   "cell_type": "code",
   "execution_count": 17,
   "id": "97f18749-38a3-4e86-a2e0-b2b83725b5a8",
   "metadata": {},
   "outputs": [
    {
     "name": "stdout",
     "output_type": "stream",
     "text": [
      "Inner City 4.9\n"
     ]
    }
   ],
   "source": [
    "high_avg_rate=ans.idxmax()\n",
    "value=ans.max()\n",
    "print(high_avg_rate,value)"
   ]
  },
  {
   "cell_type": "markdown",
   "id": "69955649-e038-4b79-b9bd-944dbd904b0b",
   "metadata": {},
   "source": [
    "## TASK 3 : Price Range Distribution"
   ]
  },
  {
   "cell_type": "markdown",
   "id": "264437a8-70a9-4ee4-a9dd-1b300eb191b3",
   "metadata": {},
   "source": [
    "#### Create a histogram or bar chart to visualize the distribution of price ranges among the restaurants.s."
   ]
  },
  {
   "cell_type": "code",
   "execution_count": 18,
   "id": "045cde5e-4d98-475b-b902-6a74b61db431",
   "metadata": {},
   "outputs": [
    {
     "name": "stdout",
     "output_type": "stream",
     "text": [
      "<class 'pandas.core.frame.DataFrame'>\n",
      "RangeIndex: 9551 entries, 0 to 9550\n",
      "Data columns (total 21 columns):\n",
      " #   Column                Non-Null Count  Dtype  \n",
      "---  ------                --------------  -----  \n",
      " 0   Restaurant ID         9551 non-null   int64  \n",
      " 1   Restaurant Name       9551 non-null   object \n",
      " 2   Country Code          9551 non-null   int64  \n",
      " 3   City                  9551 non-null   object \n",
      " 4   Address               9551 non-null   object \n",
      " 5   Locality              9551 non-null   object \n",
      " 6   Locality Verbose      9551 non-null   object \n",
      " 7   Longitude             9551 non-null   float64\n",
      " 8   Latitude              9551 non-null   float64\n",
      " 9   Cuisines              9542 non-null   object \n",
      " 10  Average Cost for two  9551 non-null   int64  \n",
      " 11  Currency              9551 non-null   object \n",
      " 12  Has Table booking     9551 non-null   object \n",
      " 13  Has Online delivery   9551 non-null   object \n",
      " 14  Is delivering now     9551 non-null   object \n",
      " 15  Switch to order menu  9551 non-null   object \n",
      " 16  Price range           9551 non-null   int64  \n",
      " 17  Aggregate rating      9551 non-null   float64\n",
      " 18  Rating color          9551 non-null   object \n",
      " 19  Rating text           9551 non-null   object \n",
      " 20  Votes                 9551 non-null   int64  \n",
      "dtypes: float64(3), int64(5), object(13)\n",
      "memory usage: 1.5+ MB\n"
     ]
    }
   ],
   "source": [
    "df.info()"
   ]
  },
  {
   "cell_type": "markdown",
   "id": "4fe775c6-8f5e-4d95-a304-2d0984869c4d",
   "metadata": {},
   "source": [
    "#### HISTOGRAM"
   ]
  },
  {
   "cell_type": "code",
   "execution_count": 19,
   "id": "f68df890-2381-487e-9b4c-399fd5de022e",
   "metadata": {},
   "outputs": [
    {
     "name": "stderr",
     "output_type": "stream",
     "text": [
      "C:\\Users\\ASUS\\anaconda3\\Lib\\site-packages\\seaborn\\_oldcore.py:1119: FutureWarning: use_inf_as_na option is deprecated and will be removed in a future version. Convert inf values to NaN before operating instead.\n",
      "  with pd.option_context('mode.use_inf_as_na', True):\n"
     ]
    },
    {
     "data": {
      "image/png": "[encoded data removed]",
      "text/plain": [
       "<Figure size 640x480 with 1 Axes>"
      ]
     },
     "metadata": {},
     "output_type": "display_data"
    }
   ],
   "source": [
    "sns.histplot(df['Price range'],discrete=True,alpha=True)\n",
    "plt.xlabel('Price Range')\n",
    "plt.ylabel('Frequency')\n",
    "plt.title('Distribution of Price Ranges Among Restaurants')\n",
    "plt.show()"
   ]
  },
  {
   "cell_type": "markdown",
   "id": "fd4c5e03-acca-466e-9f44-c9a99bea194e",
   "metadata": {},
   "source": [
    "#### BARPLOT"
   ]
  },
  {
   "cell_type": "raw",
   "id": "ce8e3b41-7ce2-4a7a-a05a-1f227f48811b",
   "metadata": {},
   "source": [
    "sns.barplot(x=price_range_cat,y=(price_range*len(df))/100,palette='Blues_d')\n",
    "plt.xlabel('Price Range')\n",
    "plt.ylabel('Number of Restaurants')\n",
    "plt.title('Distribution of Price Ranges Among Restaurants')\n",
    "plt.show()"
   ]
  },
  {
   "cell_type": "markdown",
   "id": "de0430ce-e028-4a6d-ac4d-2a96c102beed",
   "metadata": {},
   "source": [
    "#### Calculate the percentage of restaurants in each price range category."
   ]
  },
  {
   "cell_type": "code",
   "execution_count": 20,
   "id": "0c52de34-2ac6-4257-a8be-83c942f2ec9b",
   "metadata": {},
   "outputs": [],
   "source": [
    "price_range=(df.groupby('Price range')['Restaurant Name'].count()/len(df))*100"
   ]
  },
  {
   "cell_type": "code",
   "execution_count": 21,
   "id": "b0b47b9d-411d-4065-8627-5da43dcc76d9",
   "metadata": {},
   "outputs": [
    {
     "data": {
      "text/plain": [
       "Price range\n",
       "1    46.529159\n",
       "2    32.593446\n",
       "3    14.741912\n",
       "4     6.135483\n",
       "Name: Restaurant Name, dtype: float64"
      ]
     },
     "execution_count": 21,
     "metadata": {},
     "output_type": "execute_result"
    }
   ],
   "source": [
    "price_range"
   ]
  },
  {
   "cell_type": "markdown",
   "id": "aa973edd-614f-4634-b1e4-822fcf46e354",
   "metadata": {},
   "source": [
    "## Task4 : Online Delivery"
   ]
  },
  {
   "cell_type": "markdown",
   "id": "e44514b0-03a6-4aab-a277-63e6710ea123",
   "metadata": {},
   "source": [
    "#### Determine the percentage of restaurants hat offer online delivery."
   ]
  },
  {
   "cell_type": "code",
   "execution_count": 22,
   "id": "c6061542-30db-4d99-a0dc-4cfb2a222b62",
   "metadata": {},
   "outputs": [],
   "source": [
    "lists=[]\n",
    "for val in df['Has Online delivery']:\n",
    "    if val=='Yes':\n",
    "        lists.append(df['Restaurant Name'])"
   ]
  },
  {
   "cell_type": "code",
   "execution_count": 23,
   "id": "93536687-e2c1-4a47-86d4-328323c28050",
   "metadata": {},
   "outputs": [
    {
     "name": "stdout",
     "output_type": "stream",
     "text": [
      "2451\n"
     ]
    }
   ],
   "source": [
    "print(len(lists))"
   ]
  },
  {
   "cell_type": "code",
   "execution_count": 24,
   "id": "3f06548a-2f99-4320-8aac-e8c27ff99896",
   "metadata": {},
   "outputs": [
    {
     "data": {
      "text/plain": [
       "7446"
      ]
     },
     "execution_count": 24,
     "metadata": {},
     "output_type": "execute_result"
    }
   ],
   "source": [
    "unique_restaurants=df['Restaurant Name'].unique()\n",
    "total_unique_restaurants=len(unique_restaurants)\n",
    "total_unique_restaurants"
   ]
  },
  {
   "cell_type": "markdown",
   "id": "9927b498-510e-4f50-8733-e178e99332e7",
   "metadata": {},
   "source": [
    "##### Here We have 7446 restaurants in which 2451 restaurants provide Online Delivery.Hence the percentage can be calculated as follows"
   ]
  },
  {
   "cell_type": "code",
   "execution_count": 25,
   "id": "2006eecd-8733-476b-a503-94edb2f45939",
   "metadata": {},
   "outputs": [
    {
     "name": "stdout",
     "output_type": "stream",
     "text": [
      "Percentage of rstaurants that offer online delivery : 32.917002417405314\n"
     ]
    }
   ],
   "source": [
    "percent=len(lists)/total_unique_restaurants*100\n",
    "print(f\"Percentage of rstaurants that offer online delivery : {percent}\")"
   ]
  },
  {
   "cell_type": "code",
   "execution_count": 26,
   "id": "0bd14b09-f792-41b1-942a-776986425672",
   "metadata": {},
   "outputs": [
    {
     "name": "stdout",
     "output_type": "stream",
     "text": [
      "25.662234321013504\n"
     ]
    }
   ],
   "source": [
    "print(len(lists)/len(df)*100)"
   ]
  },
  {
   "cell_type": "markdown",
   "id": "8db79a00-6fe3-4902-a0c2-193611a851fa",
   "metadata": {},
   "source": [
    "#### Compare the average ratings of restaurants with and without online delivery"
   ]
  },
  {
   "cell_type": "code",
   "execution_count": 27,
   "id": "1b6254b3-3ab9-4c62-bc4c-a35313a1bb64",
   "metadata": {},
   "outputs": [
    {
     "name": "stdout",
     "output_type": "stream",
     "text": [
      "Average ratings of restaurants with and without online delivery :\n"
     ]
    },
    {
     "data": {
      "text/plain": [
       "Has Online delivery\n",
       "No     2.465296\n",
       "Yes    3.248837\n",
       "Name: Aggregate rating, dtype: float64"
      ]
     },
     "execution_count": 27,
     "metadata": {},
     "output_type": "execute_result"
    }
   ],
   "source": [
    "yes_no=df.groupby('Has Online delivery')['Aggregate rating']\n",
    "print(\"Average ratings of restaurants with and without online delivery :\")\n",
    "yes_no.mean()"
   ]
  },
  {
   "cell_type": "markdown",
   "id": "50cf33ff-fde9-4322-841b-ecf41d326271",
   "metadata": {},
   "source": [
    "\n",
    "\n",
    "# LEVEL 2"
   ]
  },
  {
   "cell_type": "markdown",
   "id": "f85e3b9d-133b-42fb-a99f-81b9656dff0e",
   "metadata": {},
   "source": [
    "## Task 1: Restaurant Ratings"
   ]
  },
  {
   "cell_type": "markdown",
   "id": "65174fc4-8967-41f9-9ee1-68e263e99f07",
   "metadata": {},
   "source": [
    "#### Analyze the distribution of aggregate ratings and determine the most common rating range"
   ]
  },
  {
   "cell_type": "code",
   "execution_count": 28,
   "id": "e20fd22f-4d80-4427-933f-e59522b728ee",
   "metadata": {},
   "outputs": [
    {
     "data": {
      "text/plain": [
       "array([4.8, 4.5, 4.4, 4.9, 4. , 4.2, 4.3, 3.6, 4.7, 3. , 3.8, 3.7, 3.2,\n",
       "       3.1, 0. , 4.1, 3.3, 4.6, 3.9, 3.4, 3.5, 2.2, 2.9, 2.4, 2.6, 2.8,\n",
       "       2.1, 2.7, 2.5, 1.8, 2. , 2.3, 1.9])"
      ]
     },
     "execution_count": 28,
     "metadata": {},
     "output_type": "execute_result"
    }
   ],
   "source": [
    "df['Aggregate rating'].unique()"
   ]
  },
  {
   "cell_type": "code",
   "execution_count": 29,
   "id": "d5cbc028-79fa-4a14-9f49-559a0ecfd976",
   "metadata": {},
   "outputs": [
    {
     "data": {
      "text/plain": [
       "33"
      ]
     },
     "execution_count": 29,
     "metadata": {},
     "output_type": "execute_result"
    }
   ],
   "source": [
    "len(df['Aggregate rating'].unique())"
   ]
  },
  {
   "cell_type": "code",
   "execution_count": 30,
   "id": "dc673d38-e72c-4989-aa02-1c3911d5a78f",
   "metadata": {},
   "outputs": [
    {
     "data": {
      "text/plain": [
       "Aggregate rating\n",
       "0.0    2148\n",
       "1.8       1\n",
       "1.9       2\n",
       "2.0       7\n",
       "2.1      15\n",
       "2.2      27\n",
       "2.3      47\n",
       "2.4      87\n",
       "2.5     110\n",
       "2.6     191\n",
       "2.7     250\n",
       "2.8     315\n",
       "2.9     381\n",
       "3.0     468\n",
       "3.1     519\n",
       "3.2     522\n",
       "3.3     483\n",
       "3.4     498\n",
       "3.5     480\n",
       "3.6     458\n",
       "3.7     427\n",
       "3.8     400\n",
       "3.9     335\n",
       "4.0     266\n",
       "4.1     274\n",
       "4.2     221\n",
       "4.3     174\n",
       "4.4     144\n",
       "4.5      95\n",
       "4.6      78\n",
       "4.7      42\n",
       "4.8      25\n",
       "4.9      61\n",
       "Name: Restaurant Name, dtype: int64"
      ]
     },
     "execution_count": 30,
     "metadata": {},
     "output_type": "execute_result"
    }
   ],
   "source": [
    "agg_rate=df.groupby('Aggregate rating')\n",
    "agg_rate_distribution=agg_rate['Restaurant Name'].count()\n",
    "agg_rate_distribution"
   ]
  },
  {
   "cell_type": "code",
   "execution_count": 31,
   "id": "e3718d7c-7541-4f1e-b7d7-322ed4b7538c",
   "metadata": {},
   "outputs": [],
   "source": [
    "newd=agg_rate_distribution.idxmax()"
   ]
  },
  {
   "cell_type": "code",
   "execution_count": 32,
   "id": "faa619cb-f0eb-4277-a747-e539e373a3c8",
   "metadata": {},
   "outputs": [
    {
     "name": "stdout",
     "output_type": "stream",
     "text": [
      "Most common Rating Range :0.0 with a count of 2148\n"
     ]
    }
   ],
   "source": [
    "print(f\"Most common Rating Range :{newd} with a count of {agg_rate_distribution[newd]}\")"
   ]
  },
  {
   "cell_type": "markdown",
   "id": "4a8b57f5-84b6-437a-b985-ebc3dbb72104",
   "metadata": {},
   "source": [
    "#### Calculate the average number of votes received by restaurants."
   ]
  },
  {
   "cell_type": "code",
   "execution_count": 33,
   "id": "742ea6dd-7fc7-49c2-878e-2005068c7459",
   "metadata": {},
   "outputs": [
    {
     "name": "stdout",
     "output_type": "stream",
     "text": [
      "Average number of votes recieved at restaurant level : 152.24758392767424\n"
     ]
    }
   ],
   "source": [
    "average_vote=df.groupby('Restaurant Name')\n",
    "sep_vote_avg=average_vote['Votes'].mean()\n",
    "total_avg=sep_vote_avg.mean()\n",
    "print(f\"Average number of votes recieved at restaurant level : {total_avg}\")"
   ]
  },
  {
   "cell_type": "code",
   "execution_count": 34,
   "id": "6b1bbf20-368a-4311-aaf3-d37885a164db",
   "metadata": {},
   "outputs": [
    {
     "name": "stdout",
     "output_type": "stream",
     "text": [
      "Average number of received by restaurants : 156.909747670401\n"
     ]
    }
   ],
   "source": [
    "print(f\"Average number of received by restaurants : {df['Votes'].mean()}\")"
   ]
  },
  {
   "cell_type": "markdown",
   "id": "01cd7136-0c16-4fb9-b567-3a98d5a3b099",
   "metadata": {},
   "source": [
    "## TASK 2"
   ]
  },
  {
   "cell_type": "markdown",
   "id": "34089f80-f0ac-424d-9c10-679cbd9e1d13",
   "metadata": {},
   "source": [
    "#### Identify the most common combinations of cuisines in the dataset.."
   ]
  },
  {
   "cell_type": "code",
   "execution_count": 35,
   "id": "314148d4-9bd3-46a4-91de-af6fc0030fc0",
   "metadata": {},
   "outputs": [],
   "source": [
    "df['Cuisines_list']=df['Cuisines'].str.split(',')"
   ]
  },
  {
   "cell_type": "code",
   "execution_count": 36,
   "id": "ad90cc0d-7701-4bc2-b08f-700ca1ffe33a",
   "metadata": {},
   "outputs": [
    {
     "data": {
      "text/plain": [
       "0              ( Desserts,  Japanese, French)\n",
       "1                                 (Japanese,)\n",
       "2       ( Asian,  Filipino,  Indian, Seafood)\n",
       "3                          ( Sushi, Japanese)\n",
       "4                         ( Korean, Japanese)\n",
       "                        ...                  \n",
       "9546                               (Turkish,)\n",
       "9547      ( Cafe,  Patisserie, World Cuisine)\n",
       "9548                ( World Cuisine, Italian)\n",
       "9549                       (Restaurant Cafe,)\n",
       "9550                                  (Cafe,)\n",
       "Name: Cuisines_list, Length: 9551, dtype: object"
      ]
     },
     "execution_count": 36,
     "metadata": {},
     "output_type": "execute_result"
    }
   ],
   "source": [
    "most_common=df['Cuisines_list'].apply(lambda x:tuple(sorted(x)) if isinstance(x, list) else None)\n",
    "most_common"
   ]
  },
  {
   "cell_type": "code",
   "execution_count": 37,
   "id": "52985348-2dc2-4b5e-b21a-fc16fc305b7c",
   "metadata": {},
   "outputs": [],
   "source": [
    "from collections import Counter"
   ]
  },
  {
   "cell_type": "code",
   "execution_count": 38,
   "id": "09f37e02-f403-419b-bfd5-47a45c31fc18",
   "metadata": {},
   "outputs": [
    {
     "name": "stdout",
     "output_type": "stream",
     "text": [
      "The  most common combination of cuisines in the dataset is : [(('North Indian',), 936)]\n"
     ]
    }
   ],
   "source": [
    "most_common_combinations=Counter(most_common)\n",
    "print(f\"The  most common combination of cuisines in the dataset is : {most_common_combinations.most_common(1)}\")"
   ]
  },
  {
   "cell_type": "markdown",
   "id": "22a1e345-178a-405d-a8e7-af2ddc03e38c",
   "metadata": {},
   "source": [
    "#### Determine if certain cuisine combinations tend to have higher ratings.."
   ]
  },
  {
   "cell_type": "code",
   "execution_count": 39,
   "id": "028af3e3-7b79-46b5-b961-f187cad8a058",
   "metadata": {},
   "outputs": [],
   "source": [
    "df['Cuisines_list']=df['Cuisines_list'].apply(lambda x:tuple(sorted(x)) if isinstance(x, list) else None)\n",
    "rating_mc=df.groupby('Cuisines_list')"
   ]
  },
  {
   "cell_type": "code",
   "execution_count": 40,
   "id": "53e1ffa5-1a64-465e-8df5-07e9ed3d4366",
   "metadata": {},
   "outputs": [
    {
     "data": {
      "text/html": [
       "<div>\n",
       "<style scoped>\n",
       "    .dataframe tbody tr th:only-of-type {\n",
       "        vertical-align: middle;\n",
       "    }\n",
       "\n",
       "    .dataframe tbody tr th {\n",
       "        vertical-align: top;\n",
       "    }\n",
       "\n",
       "    .dataframe thead th {\n",
       "        text-align: right;\n",
       "    }\n",
       "</style>\n",
       "<table border=\"1\" class=\"dataframe\">\n",
       "  <thead>\n",
       "    <tr style=\"text-align: right;\">\n",
       "      <th></th>\n",
       "      <th>Cuisines_list</th>\n",
       "      <th>Aggregate rating</th>\n",
       "    </tr>\n",
       "  </thead>\n",
       "  <tbody>\n",
       "    <tr>\n",
       "      <th>0</th>\n",
       "      <td>( Afghani,  Chinese,  Indian, Pakistani)</td>\n",
       "      <td>4.10</td>\n",
       "    </tr>\n",
       "    <tr>\n",
       "      <th>1</th>\n",
       "      <td>( Afghani,  Curry,  Indian, Pakistani)</td>\n",
       "      <td>3.90</td>\n",
       "    </tr>\n",
       "    <tr>\n",
       "      <th>2</th>\n",
       "      <td>( Afghani,  Fast Food, North Indian)</td>\n",
       "      <td>3.00</td>\n",
       "    </tr>\n",
       "    <tr>\n",
       "      <th>3</th>\n",
       "      <td>( Afghani,  Hyderabadi,  Indian, Pakistani)</td>\n",
       "      <td>4.00</td>\n",
       "    </tr>\n",
       "    <tr>\n",
       "      <th>4</th>\n",
       "      <td>( Afghani,  Mughlai, North Indian)</td>\n",
       "      <td>4.30</td>\n",
       "    </tr>\n",
       "    <tr>\n",
       "      <th>...</th>\n",
       "      <td>...</td>\n",
       "      <td>...</td>\n",
       "    </tr>\n",
       "    <tr>\n",
       "      <th>1630</th>\n",
       "      <td>(Tibetan,)</td>\n",
       "      <td>0.00</td>\n",
       "    </tr>\n",
       "    <tr>\n",
       "      <th>1631</th>\n",
       "      <td>(Turkish,)</td>\n",
       "      <td>3.40</td>\n",
       "    </tr>\n",
       "    <tr>\n",
       "      <th>1632</th>\n",
       "      <td>(Turkish Pizza,)</td>\n",
       "      <td>4.30</td>\n",
       "    </tr>\n",
       "    <tr>\n",
       "      <th>1633</th>\n",
       "      <td>(Vietnamese,)</td>\n",
       "      <td>4.05</td>\n",
       "    </tr>\n",
       "    <tr>\n",
       "      <th>1634</th>\n",
       "      <td>(World Cuisine,)</td>\n",
       "      <td>4.90</td>\n",
       "    </tr>\n",
       "  </tbody>\n",
       "</table>\n",
       "<p>1635 rows × 2 columns</p>\n",
       "</div>"
      ],
      "text/plain": [
       "                                    Cuisines_list  Aggregate rating\n",
       "0        ( Afghani,  Chinese,  Indian, Pakistani)              4.10\n",
       "1          ( Afghani,  Curry,  Indian, Pakistani)              3.90\n",
       "2            ( Afghani,  Fast Food, North Indian)              3.00\n",
       "3     ( Afghani,  Hyderabadi,  Indian, Pakistani)              4.00\n",
       "4              ( Afghani,  Mughlai, North Indian)              4.30\n",
       "...                                           ...               ...\n",
       "1630                                   (Tibetan,)              0.00\n",
       "1631                                   (Turkish,)              3.40\n",
       "1632                             (Turkish Pizza,)              4.30\n",
       "1633                                (Vietnamese,)              4.05\n",
       "1634                             (World Cuisine,)              4.90\n",
       "\n",
       "[1635 rows x 2 columns]"
      ]
     },
     "execution_count": 40,
     "metadata": {},
     "output_type": "execute_result"
    }
   ],
   "source": [
    "rating_mc['Aggregate rating'].mean().reset_index()"
   ]
  },
  {
   "cell_type": "markdown",
   "id": "8a0b0219-bd13-486d-ae5c-85e622ffe188",
   "metadata": {},
   "source": [
    "## TASK 3"
   ]
  },
  {
   "cell_type": "markdown",
   "id": "a7cd2c73-dc24-4252-8d85-2452ff310f3a",
   "metadata": {},
   "source": [
    "#### Plot the locations of restaurants on a map using longitude and latitude coordinates"
   ]
  },
  {
   "cell_type": "code",
   "execution_count": 41,
   "id": "a3c72398-70ae-4c42-9635-773ae8a6fcba",
   "metadata": {},
   "outputs": [
    {
     "data": {
      "text/plain": [
       "City\n",
       "Abu Dhabi          20\n",
       "Agra               20\n",
       "Ahmedabad          21\n",
       "Albany             20\n",
       "Allahabad          20\n",
       "                   ..\n",
       "Weirton             1\n",
       "Wellington City    20\n",
       "Winchester Bay      1\n",
       "Yorkton             1\n",
       "��stanbul          14\n",
       "Name: Restaurant Name, Length: 141, dtype: int64"
      ]
     },
     "execution_count": 41,
     "metadata": {},
     "output_type": "execute_result"
    }
   ],
   "source": [
    "df.groupby('City')['Restaurant Name'].count()"
   ]
  },
  {
   "cell_type": "code",
   "execution_count": 42,
   "id": "38f51bf6-6f20-4a13-a442-3746f8cec49e",
   "metadata": {},
   "outputs": [
    {
     "data": {
      "text/plain": [
       "Index(['Restaurant ID', 'Restaurant Name', 'Country Code', 'City', 'Address',\n",
       "       'Locality', 'Locality Verbose', 'Longitude', 'Latitude', 'Cuisines',\n",
       "       'Average Cost for two', 'Currency', 'Has Table booking',\n",
       "       'Has Online delivery', 'Is delivering now', 'Switch to order menu',\n",
       "       'Price range', 'Aggregate rating', 'Rating color', 'Rating text',\n",
       "       'Votes', 'Cuisines_list'],\n",
       "      dtype='object')"
      ]
     },
     "execution_count": 42,
     "metadata": {},
     "output_type": "execute_result"
    }
   ],
   "source": [
    "df.columns"
   ]
  },
  {
   "cell_type": "code",
   "execution_count": 43,
   "id": "a69657fb-93aa-4544-a69a-c6da6ecc2944",
   "metadata": {},
   "outputs": [],
   "source": [
    "import folium"
   ]
  },
  {
   "cell_type": "code",
   "execution_count": 44,
   "id": "025202a6-ae36-4b72-b4ea-e9e956c08853",
   "metadata": {},
   "outputs": [],
   "source": [
    "map_center=[df['Latitude'].mean(),df['Longitude'].mean()]\n",
    "restaurant_map=folium.Map(location=map_center,zoom_start=5)"
   ]
  },
  {
   "cell_type": "raw",
   "id": "d2286fa6-7440-4c9f-92b2-5f6e66b2ee57",
   "metadata": {},
   "source": [
    "for _,row in df.iterrows():\n",
    "    folium.Marker\n",
    "    (\n",
    "        location=[row['Latitude'],row['Longitude']],\n",
    "        popup=row['Restaurant Name']\n",
    "    ).add_to(restaurant_map)\n",
    "restaurant_map.save('restaurant_map.html')\n",
    "restaurant_map"
   ]
  },
  {
   "cell_type": "markdown",
   "id": "a64fffec-17a9-4c03-8a4a-3cf7f3a3e226",
   "metadata": {},
   "source": [
    "#### Identify any patterns or clusters of restaurants in specific areas.\r"
   ]
  },
  {
   "cell_type": "code",
   "execution_count": 45,
   "id": "b9c3c256-a02e-4027-916e-4cf01952e188",
   "metadata": {},
   "outputs": [
    {
     "data": {
      "text/html": [
       "<div>\n",
       "<style scoped>\n",
       "    .dataframe tbody tr th:only-of-type {\n",
       "        vertical-align: middle;\n",
       "    }\n",
       "\n",
       "    .dataframe tbody tr th {\n",
       "        vertical-align: top;\n",
       "    }\n",
       "\n",
       "    .dataframe thead th {\n",
       "        text-align: right;\n",
       "    }\n",
       "</style>\n",
       "<table border=\"1\" class=\"dataframe\">\n",
       "  <thead>\n",
       "    <tr style=\"text-align: right;\">\n",
       "      <th></th>\n",
       "      <th>index</th>\n",
       "      <th>City</th>\n",
       "      <th>Count</th>\n",
       "    </tr>\n",
       "  </thead>\n",
       "  <tbody>\n",
       "    <tr>\n",
       "      <th>0</th>\n",
       "      <td>88</td>\n",
       "      <td>New Delhi</td>\n",
       "      <td>5473</td>\n",
       "    </tr>\n",
       "    <tr>\n",
       "      <th>1</th>\n",
       "      <td>50</td>\n",
       "      <td>Gurgaon</td>\n",
       "      <td>1118</td>\n",
       "    </tr>\n",
       "    <tr>\n",
       "      <th>2</th>\n",
       "      <td>89</td>\n",
       "      <td>Noida</td>\n",
       "      <td>1080</td>\n",
       "    </tr>\n",
       "    <tr>\n",
       "      <th>3</th>\n",
       "      <td>43</td>\n",
       "      <td>Faridabad</td>\n",
       "      <td>251</td>\n",
       "    </tr>\n",
       "    <tr>\n",
       "      <th>4</th>\n",
       "      <td>48</td>\n",
       "      <td>Ghaziabad</td>\n",
       "      <td>25</td>\n",
       "    </tr>\n",
       "    <tr>\n",
       "      <th>...</th>\n",
       "      <td>...</td>\n",
       "      <td>...</td>\n",
       "      <td>...</td>\n",
       "    </tr>\n",
       "    <tr>\n",
       "      <th>136</th>\n",
       "      <td>37</td>\n",
       "      <td>Dicky Beach</td>\n",
       "      <td>1</td>\n",
       "    </tr>\n",
       "    <tr>\n",
       "      <th>137</th>\n",
       "      <td>68</td>\n",
       "      <td>Lorn</td>\n",
       "      <td>1</td>\n",
       "    </tr>\n",
       "    <tr>\n",
       "      <th>138</th>\n",
       "      <td>107</td>\n",
       "      <td>Quezon City</td>\n",
       "      <td>1</td>\n",
       "    </tr>\n",
       "    <tr>\n",
       "      <th>139</th>\n",
       "      <td>66</td>\n",
       "      <td>Lincoln</td>\n",
       "      <td>1</td>\n",
       "    </tr>\n",
       "    <tr>\n",
       "      <th>140</th>\n",
       "      <td>65</td>\n",
       "      <td>Lakeview</td>\n",
       "      <td>1</td>\n",
       "    </tr>\n",
       "  </tbody>\n",
       "</table>\n",
       "<p>141 rows × 3 columns</p>\n",
       "</div>"
      ],
      "text/plain": [
       "     index         City  Count\n",
       "0       88    New Delhi   5473\n",
       "1       50      Gurgaon   1118\n",
       "2       89        Noida   1080\n",
       "3       43    Faridabad    251\n",
       "4       48    Ghaziabad     25\n",
       "..     ...          ...    ...\n",
       "136     37  Dicky Beach      1\n",
       "137     68         Lorn      1\n",
       "138    107  Quezon City      1\n",
       "139     66      Lincoln      1\n",
       "140     65     Lakeview      1\n",
       "\n",
       "[141 rows x 3 columns]"
      ]
     },
     "execution_count": 45,
     "metadata": {},
     "output_type": "execute_result"
    }
   ],
   "source": [
    "s=df.groupby('City')['Restaurant Name'].count()\n",
    "s=s.reset_index(name='Count')\n",
    "s=s.sort_values(by='Count',ascending=False).reset_index()\n",
    "s"
   ]
  },
  {
   "cell_type": "code",
   "execution_count": 46,
   "id": "62b3d4d2-ba2f-4c44-a171-e0589d415d7d",
   "metadata": {},
   "outputs": [
    {
     "data": {
      "text/html": [
       "<div>\n",
       "<style scoped>\n",
       "    .dataframe tbody tr th:only-of-type {\n",
       "        vertical-align: middle;\n",
       "    }\n",
       "\n",
       "    .dataframe tbody tr th {\n",
       "        vertical-align: top;\n",
       "    }\n",
       "\n",
       "    .dataframe thead th {\n",
       "        text-align: right;\n",
       "    }\n",
       "</style>\n",
       "<table border=\"1\" class=\"dataframe\">\n",
       "  <thead>\n",
       "    <tr style=\"text-align: right;\">\n",
       "      <th></th>\n",
       "      <th>index</th>\n",
       "      <th>City</th>\n",
       "      <th>Count</th>\n",
       "    </tr>\n",
       "  </thead>\n",
       "  <tbody>\n",
       "    <tr>\n",
       "      <th>0</th>\n",
       "      <td>88</td>\n",
       "      <td>New Delhi</td>\n",
       "      <td>5473</td>\n",
       "    </tr>\n",
       "    <tr>\n",
       "      <th>1</th>\n",
       "      <td>50</td>\n",
       "      <td>Gurgaon</td>\n",
       "      <td>1118</td>\n",
       "    </tr>\n",
       "    <tr>\n",
       "      <th>2</th>\n",
       "      <td>89</td>\n",
       "      <td>Noida</td>\n",
       "      <td>1080</td>\n",
       "    </tr>\n",
       "    <tr>\n",
       "      <th>3</th>\n",
       "      <td>43</td>\n",
       "      <td>Faridabad</td>\n",
       "      <td>251</td>\n",
       "    </tr>\n",
       "    <tr>\n",
       "      <th>4</th>\n",
       "      <td>48</td>\n",
       "      <td>Ghaziabad</td>\n",
       "      <td>25</td>\n",
       "    </tr>\n",
       "    <tr>\n",
       "      <th>5</th>\n",
       "      <td>17</td>\n",
       "      <td>Bhubaneshwar</td>\n",
       "      <td>21</td>\n",
       "    </tr>\n",
       "    <tr>\n",
       "      <th>6</th>\n",
       "      <td>69</td>\n",
       "      <td>Lucknow</td>\n",
       "      <td>21</td>\n",
       "    </tr>\n",
       "    <tr>\n",
       "      <th>7</th>\n",
       "      <td>5</td>\n",
       "      <td>Amritsar</td>\n",
       "      <td>21</td>\n",
       "    </tr>\n",
       "    <tr>\n",
       "      <th>8</th>\n",
       "      <td>2</td>\n",
       "      <td>Ahmedabad</td>\n",
       "      <td>21</td>\n",
       "    </tr>\n",
       "    <tr>\n",
       "      <th>9</th>\n",
       "      <td>51</td>\n",
       "      <td>Guwahati</td>\n",
       "      <td>21</td>\n",
       "    </tr>\n",
       "    <tr>\n",
       "      <th>10</th>\n",
       "      <td>58</td>\n",
       "      <td>Jaipur</td>\n",
       "      <td>20</td>\n",
       "    </tr>\n",
       "    <tr>\n",
       "      <th>11</th>\n",
       "      <td>87</td>\n",
       "      <td>Nashik</td>\n",
       "      <td>20</td>\n",
       "    </tr>\n",
       "  </tbody>\n",
       "</table>\n",
       "</div>"
      ],
      "text/plain": [
       "    index          City  Count\n",
       "0      88     New Delhi   5473\n",
       "1      50       Gurgaon   1118\n",
       "2      89         Noida   1080\n",
       "3      43     Faridabad    251\n",
       "4      48     Ghaziabad     25\n",
       "5      17  Bhubaneshwar     21\n",
       "6      69       Lucknow     21\n",
       "7       5      Amritsar     21\n",
       "8       2     Ahmedabad     21\n",
       "9      51      Guwahati     21\n",
       "10     58        Jaipur     20\n",
       "11     87        Nashik     20"
      ]
     },
     "execution_count": 46,
     "metadata": {},
     "output_type": "execute_result"
    }
   ],
   "source": [
    "top_10=s.loc[0:11,:]\n",
    "top_10"
   ]
  },
  {
   "cell_type": "code",
   "execution_count": 47,
   "id": "1f18035b-4441-4b9c-9f61-eaa04330a655",
   "metadata": {},
   "outputs": [
    {
     "data": {
      "image/png": "[encoded data removed]",
      "text/plain": [
       "<Figure size 640x480 with 1 Axes>"
      ]
     },
     "metadata": {},
     "output_type": "display_data"
    }
   ],
   "source": [
    "sns.barplot(x=top_10['City'],y=top_10['Count'],palette='viridis')\n",
    "plt.xlabel('City')\n",
    "plt.ylabel('Number of restaurants')\n",
    "plt.title('Top 10  City with high number of restaurants')\n",
    "plt.xticks(rotation=90)\n",
    "plt.show()"
   ]
  },
  {
   "cell_type": "code",
   "execution_count": 48,
   "id": "0e6665dd-622f-4c70-8bb5-b21c20adbd01",
   "metadata": {},
   "outputs": [
    {
     "name": "stderr",
     "output_type": "stream",
     "text": [
      "C:\\Users\\ASUS\\anaconda3\\Lib\\site-packages\\sklearn\\cluster\\_kmeans.py:870: FutureWarning: The default value of `n_init` will change from 10 to 'auto' in 1.4. Set the value of `n_init` explicitly to suppress the warning\n",
      "  warnings.warn(\n"
     ]
    }
   ],
   "source": [
    "from sklearn.cluster import KMeans\n",
    "kmeans=KMeans(n_clusters=7,random_state=0).fit(df[['Longitude','Latitude']])\n",
    "df['Cluster']=kmeans.labels_"
   ]
  },
  {
   "cell_type": "code",
   "execution_count": 49,
   "id": "f7c621f3-25e5-47b0-8374-743fdb7740be",
   "metadata": {},
   "outputs": [
    {
     "data": {
      "image/png": "[encoded data removed]",
      "text/plain": [
       "<Figure size 640x480 with 2 Axes>"
      ]
     },
     "metadata": {},
     "output_type": "display_data"
    }
   ],
   "source": [
    "plt.scatter(df['Longitude'],df['Latitude'],c=df['Cluster'], cmap='viridis')\n",
    "plt.xlabel('Longitude')\n",
    "plt.ylabel('Latitude')\n",
    "plt.title('Restaurant Clusters')\n",
    "plt.colorbar(label='Cluster')\n",
    "plt.show()"
   ]
  },
  {
   "cell_type": "markdown",
   "id": "dfd3c53d-6d2d-4372-857e-248a952fe745",
   "metadata": {},
   "source": [
    "## TASK 4"
   ]
  },
  {
   "cell_type": "markdown",
   "id": "2e75432a-65c8-4056-b9c4-90f01d933985",
   "metadata": {},
   "source": [
    "#### Identify if there are any restaurant chains present in the dataset."
   ]
  },
  {
   "cell_type": "code",
   "execution_count": 50,
   "id": "7b544f5c-63ee-40d2-9228-87a0a5e9e262",
   "metadata": {},
   "outputs": [
    {
     "data": {
      "text/html": [
       "<div>\n",
       "<style scoped>\n",
       "    .dataframe tbody tr th:only-of-type {\n",
       "        vertical-align: middle;\n",
       "    }\n",
       "\n",
       "    .dataframe tbody tr th {\n",
       "        vertical-align: top;\n",
       "    }\n",
       "\n",
       "    .dataframe thead th {\n",
       "        text-align: right;\n",
       "    }\n",
       "</style>\n",
       "<table border=\"1\" class=\"dataframe\">\n",
       "  <thead>\n",
       "    <tr style=\"text-align: right;\">\n",
       "      <th></th>\n",
       "      <th>Cuisines</th>\n",
       "      <th>Count</th>\n",
       "    </tr>\n",
       "  </thead>\n",
       "  <tbody>\n",
       "    <tr>\n",
       "      <th>0</th>\n",
       "      <td>Afghani</td>\n",
       "      <td>4</td>\n",
       "    </tr>\n",
       "    <tr>\n",
       "      <th>1</th>\n",
       "      <td>Afghani, Mughlai, Chinese</td>\n",
       "      <td>1</td>\n",
       "    </tr>\n",
       "    <tr>\n",
       "      <th>2</th>\n",
       "      <td>Afghani, North Indian</td>\n",
       "      <td>1</td>\n",
       "    </tr>\n",
       "    <tr>\n",
       "      <th>3</th>\n",
       "      <td>Afghani, North Indian, Pakistani, Arabian</td>\n",
       "      <td>1</td>\n",
       "    </tr>\n",
       "    <tr>\n",
       "      <th>4</th>\n",
       "      <td>African</td>\n",
       "      <td>1</td>\n",
       "    </tr>\n",
       "    <tr>\n",
       "      <th>...</th>\n",
       "      <td>...</td>\n",
       "      <td>...</td>\n",
       "    </tr>\n",
       "    <tr>\n",
       "      <th>1820</th>\n",
       "      <td>Western, Asian, Cafe</td>\n",
       "      <td>1</td>\n",
       "    </tr>\n",
       "    <tr>\n",
       "      <th>1821</th>\n",
       "      <td>Western, Fusion, Fast Food</td>\n",
       "      <td>1</td>\n",
       "    </tr>\n",
       "    <tr>\n",
       "      <th>1822</th>\n",
       "      <td>World Cuisine</td>\n",
       "      <td>1</td>\n",
       "    </tr>\n",
       "    <tr>\n",
       "      <th>1823</th>\n",
       "      <td>World Cuisine, Mexican, Italian</td>\n",
       "      <td>1</td>\n",
       "    </tr>\n",
       "    <tr>\n",
       "      <th>1824</th>\n",
       "      <td>World Cuisine, Patisserie, Cafe</td>\n",
       "      <td>1</td>\n",
       "    </tr>\n",
       "  </tbody>\n",
       "</table>\n",
       "<p>1825 rows × 2 columns</p>\n",
       "</div>"
      ],
      "text/plain": [
       "                                       Cuisines  Count\n",
       "0                                       Afghani      4\n",
       "1                     Afghani, Mughlai, Chinese      1\n",
       "2                         Afghani, North Indian      1\n",
       "3     Afghani, North Indian, Pakistani, Arabian      1\n",
       "4                                       African      1\n",
       "...                                         ...    ...\n",
       "1820                       Western, Asian, Cafe      1\n",
       "1821                 Western, Fusion, Fast Food      1\n",
       "1822                              World Cuisine      1\n",
       "1823            World Cuisine, Mexican, Italian      1\n",
       "1824            World Cuisine, Patisserie, Cafe      1\n",
       "\n",
       "[1825 rows x 2 columns]"
      ]
     },
     "execution_count": 50,
     "metadata": {},
     "output_type": "execute_result"
    }
   ],
   "source": [
    "chain=df.groupby('Cuisines')['Restaurant Name'].count()\n",
    "chain=chain.reset_index(name='Count')\n",
    "chain"
   ]
  },
  {
   "cell_type": "code",
   "execution_count": 51,
   "id": "5c4d0e1e-5f75-4d41-93cd-7dfb817a407e",
   "metadata": {},
   "outputs": [
    {
     "name": "stdout",
     "output_type": "stream",
     "text": [
      "There are 547 restaurant chains present in the dataset\n"
     ]
    }
   ],
   "source": [
    "rest_chain_cuisine=[]\n",
    "for val in chain['Count']:    \n",
    "    if val>1:\n",
    "        rest_chain_cuisine.append(chain['Cuisines'])\n",
    "if len(rest_chain_cuisine)>0:\n",
    "    print(f\"There are {len(rest_chain_cuisine)} restaurant chains present in the dataset\")"
   ]
  },
  {
   "cell_type": "markdown",
   "id": "8e4e836e-2137-45ea-9eb5-35c3a2b7fe66",
   "metadata": {},
   "source": [
    "#### Analyze the ratings and popularity of different restaurant chainss"
   ]
  },
  {
   "cell_type": "code",
   "execution_count": 52,
   "id": "c7520ad3-683d-4049-85eb-7d91c78eaea9",
   "metadata": {},
   "outputs": [
    {
     "data": {
      "text/html": [
       "<div>\n",
       "<style scoped>\n",
       "    .dataframe tbody tr th:only-of-type {\n",
       "        vertical-align: middle;\n",
       "    }\n",
       "\n",
       "    .dataframe tbody tr th {\n",
       "        vertical-align: top;\n",
       "    }\n",
       "\n",
       "    .dataframe thead th {\n",
       "        text-align: right;\n",
       "    }\n",
       "</style>\n",
       "<table border=\"1\" class=\"dataframe\">\n",
       "  <thead>\n",
       "    <tr style=\"text-align: right;\">\n",
       "      <th></th>\n",
       "      <th>Cuisines</th>\n",
       "      <th>Count</th>\n",
       "      <th>Ratings</th>\n",
       "      <th>Popularity</th>\n",
       "    </tr>\n",
       "  </thead>\n",
       "  <tbody>\n",
       "    <tr>\n",
       "      <th>0</th>\n",
       "      <td>Afghani</td>\n",
       "      <td>4</td>\n",
       "      <td>0.725</td>\n",
       "      <td>9.75</td>\n",
       "    </tr>\n",
       "    <tr>\n",
       "      <th>1</th>\n",
       "      <td>Afghani, Mughlai, Chinese</td>\n",
       "      <td>1</td>\n",
       "      <td>0.000</td>\n",
       "      <td>2.00</td>\n",
       "    </tr>\n",
       "    <tr>\n",
       "      <th>2</th>\n",
       "      <td>Afghani, North Indian</td>\n",
       "      <td>1</td>\n",
       "      <td>0.000</td>\n",
       "      <td>0.00</td>\n",
       "    </tr>\n",
       "    <tr>\n",
       "      <th>3</th>\n",
       "      <td>Afghani, North Indian, Pakistani, Arabian</td>\n",
       "      <td>1</td>\n",
       "      <td>0.000</td>\n",
       "      <td>3.00</td>\n",
       "    </tr>\n",
       "    <tr>\n",
       "      <th>4</th>\n",
       "      <td>African</td>\n",
       "      <td>1</td>\n",
       "      <td>4.700</td>\n",
       "      <td>373.00</td>\n",
       "    </tr>\n",
       "    <tr>\n",
       "      <th>...</th>\n",
       "      <td>...</td>\n",
       "      <td>...</td>\n",
       "      <td>...</td>\n",
       "      <td>...</td>\n",
       "    </tr>\n",
       "    <tr>\n",
       "      <th>1820</th>\n",
       "      <td>Western, Asian, Cafe</td>\n",
       "      <td>1</td>\n",
       "      <td>4.200</td>\n",
       "      <td>259.00</td>\n",
       "    </tr>\n",
       "    <tr>\n",
       "      <th>1821</th>\n",
       "      <td>Western, Fusion, Fast Food</td>\n",
       "      <td>1</td>\n",
       "      <td>3.200</td>\n",
       "      <td>32.00</td>\n",
       "    </tr>\n",
       "    <tr>\n",
       "      <th>1822</th>\n",
       "      <td>World Cuisine</td>\n",
       "      <td>1</td>\n",
       "      <td>4.900</td>\n",
       "      <td>95.00</td>\n",
       "    </tr>\n",
       "    <tr>\n",
       "      <th>1823</th>\n",
       "      <td>World Cuisine, Mexican, Italian</td>\n",
       "      <td>1</td>\n",
       "      <td>4.400</td>\n",
       "      <td>115.00</td>\n",
       "    </tr>\n",
       "    <tr>\n",
       "      <th>1824</th>\n",
       "      <td>World Cuisine, Patisserie, Cafe</td>\n",
       "      <td>1</td>\n",
       "      <td>4.200</td>\n",
       "      <td>1034.00</td>\n",
       "    </tr>\n",
       "  </tbody>\n",
       "</table>\n",
       "<p>1825 rows × 4 columns</p>\n",
       "</div>"
      ],
      "text/plain": [
       "                                       Cuisines  Count  Ratings  Popularity\n",
       "0                                       Afghani      4    0.725        9.75\n",
       "1                     Afghani, Mughlai, Chinese      1    0.000        2.00\n",
       "2                         Afghani, North Indian      1    0.000        0.00\n",
       "3     Afghani, North Indian, Pakistani, Arabian      1    0.000        3.00\n",
       "4                                       African      1    4.700      373.00\n",
       "...                                         ...    ...      ...         ...\n",
       "1820                       Western, Asian, Cafe      1    4.200      259.00\n",
       "1821                 Western, Fusion, Fast Food      1    3.200       32.00\n",
       "1822                              World Cuisine      1    4.900       95.00\n",
       "1823            World Cuisine, Mexican, Italian      1    4.400      115.00\n",
       "1824            World Cuisine, Patisserie, Cafe      1    4.200     1034.00\n",
       "\n",
       "[1825 rows x 4 columns]"
      ]
     },
     "execution_count": 52,
     "metadata": {},
     "output_type": "execute_result"
    }
   ],
   "source": [
    "new_chain=df.groupby('Cuisines')[['Aggregate rating','Votes']].mean()\n",
    "new_chain=new_chain.reset_index()\n",
    "chain[['Aggregate rating','Votes']]=new_chain[['Aggregate rating','Votes']]\n",
    "chain.rename(columns={'Aggregate rating':'Ratings','Votes':'Popularity'})"
   ]
  },
  {
   "cell_type": "markdown",
   "id": "a0e8bfda-8807-4b90-8ede-19467e01f577",
   "metadata": {},
   "source": [
    "# Level 3"
   ]
  },
  {
   "cell_type": "markdown",
   "id": "209ba349-8580-4dfa-bb70-a8d60552efa0",
   "metadata": {},
   "source": [
    "## TASK 1"
   ]
  },
  {
   "cell_type": "markdown",
   "id": "2b7765e1-32ec-4e93-af1d-3d532232c046",
   "metadata": {},
   "source": [
    "####  Analyze the text reviews to identify the most common positive and negative keywords."
   ]
  },
  {
   "cell_type": "code",
   "execution_count": 53,
   "id": "d25a2212-4283-4b2b-9c44-5373e1e19ab9",
   "metadata": {},
   "outputs": [
    {
     "data": {
      "text/plain": [
       "6"
      ]
     },
     "execution_count": 53,
     "metadata": {},
     "output_type": "execute_result"
    }
   ],
   "source": [
    "df['Rating text'].nunique()"
   ]
  },
  {
   "cell_type": "code",
   "execution_count": 54,
   "id": "14c31732-a098-4d0c-8493-b73008fb0a6c",
   "metadata": {},
   "outputs": [
    {
     "data": {
      "text/plain": [
       "array(['Excellent', 'Very Good', 'Good', 'Average', 'Not rated', 'Poor'],\n",
       "      dtype=object)"
      ]
     },
     "execution_count": 54,
     "metadata": {},
     "output_type": "execute_result"
    }
   ],
   "source": [
    "df['Rating text'].unique()"
   ]
  },
  {
   "cell_type": "code",
   "execution_count": 65,
   "id": "d25d01cc-1a6c-4046-aaa6-4649fa877e52",
   "metadata": {},
   "outputs": [
    {
     "data": {
      "text/html": [
       "<div>\n",
       "<style scoped>\n",
       "    .dataframe tbody tr th:only-of-type {\n",
       "        vertical-align: middle;\n",
       "    }\n",
       "\n",
       "    .dataframe tbody tr th {\n",
       "        vertical-align: top;\n",
       "    }\n",
       "\n",
       "    .dataframe thead th {\n",
       "        text-align: right;\n",
       "    }\n",
       "</style>\n",
       "<table border=\"1\" class=\"dataframe\">\n",
       "  <thead>\n",
       "    <tr style=\"text-align: right;\">\n",
       "      <th></th>\n",
       "      <th>Rating text</th>\n",
       "      <th>count</th>\n",
       "    </tr>\n",
       "  </thead>\n",
       "  <tbody>\n",
       "    <tr>\n",
       "      <th>0</th>\n",
       "      <td>Average</td>\n",
       "      <td>3737</td>\n",
       "    </tr>\n",
       "    <tr>\n",
       "      <th>1</th>\n",
       "      <td>Not rated</td>\n",
       "      <td>2148</td>\n",
       "    </tr>\n",
       "    <tr>\n",
       "      <th>2</th>\n",
       "      <td>Good</td>\n",
       "      <td>2100</td>\n",
       "    </tr>\n",
       "    <tr>\n",
       "      <th>3</th>\n",
       "      <td>Very Good</td>\n",
       "      <td>1079</td>\n",
       "    </tr>\n",
       "    <tr>\n",
       "      <th>4</th>\n",
       "      <td>Excellent</td>\n",
       "      <td>301</td>\n",
       "    </tr>\n",
       "    <tr>\n",
       "      <th>5</th>\n",
       "      <td>Poor</td>\n",
       "      <td>186</td>\n",
       "    </tr>\n",
       "  </tbody>\n",
       "</table>\n",
       "</div>"
      ],
      "text/plain": [
       "  Rating text  count\n",
       "0     Average   3737\n",
       "1   Not rated   2148\n",
       "2        Good   2100\n",
       "3   Very Good   1079\n",
       "4   Excellent    301\n",
       "5        Poor    186"
      ]
     },
     "execution_count": 65,
     "metadata": {},
     "output_type": "execute_result"
    }
   ],
   "source": [
    "lists=df['Rating text'].value_counts().reset_index()\n",
    "lists"
   ]
  },
  {
   "cell_type": "markdown",
   "id": "6e48a15a-b974-4ca7-9c01-da5077903c19",
   "metadata": {},
   "source": [
    "#### From this we can infer that most common Positive rating is GOOD with 2100 and most common negative rating is Average with 3737"
   ]
  },
  {
   "cell_type": "code",
   "execution_count": 81,
   "id": "a8d1065b-cd9f-4306-a9b6-8d702fc718c1",
   "metadata": {},
   "outputs": [],
   "source": [
    "## ALTERNATE APPROACH\n",
    "\n",
    "p_1=0\n",
    "p_2=0\n",
    "p_3=0\n",
    "n_1=0\n",
    "n_2=0\n",
    "n_3=0\n",
    "negative=0\n",
    "for val in df['Rating text']:\n",
    "    if val=='Excellent':\n",
    "        p_1=p_1+1\n",
    "    elif val=='Very Good':\n",
    "        p_2==p_2+1\n",
    "    elif val=='Good':\n",
    "        p_3=p_3+1\n",
    "    elif val=='Average':\n",
    "        n_1=n_1+1\n",
    "    elif val=='Poor':\n",
    "        n_2=n_2+1\n",
    "    elif val=='Not rated':\n",
    "        n_3=n_3+1"
   ]
  },
  {
   "cell_type": "code",
   "execution_count": 79,
   "id": "6bacc11e-7122-4deb-ba5a-34054a79fb9c",
   "metadata": {},
   "outputs": [
    {
     "name": "stdout",
     "output_type": "stream",
     "text": [
      "The most common positive word is Very Good\n"
     ]
    }
   ],
   "source": [
    "if p_1>p_2:\n",
    "    if p_1>p_3:\n",
    "        print(f\"The most common positive word is Excellent\")\n",
    "    else:\n",
    "        print(f\"The most common positive word is Very Good\")\n",
    "else:\n",
    "    print(f\"The most common positive word is Good\")\n",
    "        "
   ]
  },
  {
   "cell_type": "code",
   "execution_count": 80,
   "id": "4b7fa67e-3da3-4721-a10c-04e9d69a270f",
   "metadata": {},
   "outputs": [
    {
     "name": "stdout",
     "output_type": "stream",
     "text": [
      "The most common negative word is Average\n"
     ]
    }
   ],
   "source": [
    "if n_1>n_2:\n",
    "    if n_1>n_3:\n",
    "        print(f\"The most common negative word is Average\")\n",
    "    else:\n",
    "        print(f\"The most common negative word is Poor\")\n",
    "else:\n",
    "    print(f\"The most common negative word is Not Rated\")\n",
    "        "
   ]
  },
  {
   "cell_type": "markdown",
   "id": "94b4d7bd-6e9e-4477-b1e2-94b58962b244",
   "metadata": {},
   "source": [
    "#### Calculate the average length of reviews and explore if there is a relationship between review length and ratingg."
   ]
  },
  {
   "cell_type": "code",
   "execution_count": 106,
   "id": "fe3bcc0f-887a-4c67-adc2-4d9e227284fb",
   "metadata": {},
   "outputs": [
    {
     "data": {
      "text/plain": [
       "7.020730813527379"
      ]
     },
     "execution_count": 106,
     "metadata": {},
     "output_type": "execute_result"
    }
   ],
   "source": [
    "df['Review Length']=df['Rating text'].apply(len)\n",
    "avg_len=df['Review Length'].mean()\n",
    "avg_len"
   ]
  },
  {
   "cell_type": "code",
   "execution_count": 112,
   "id": "e4b2849f-abfb-43bd-bfa8-ae13c88a60c0",
   "metadata": {},
   "outputs": [
    {
     "data": {
      "text/plain": [
       "array([9, 4, 7], dtype=int64)"
      ]
     },
     "execution_count": 112,
     "metadata": {},
     "output_type": "execute_result"
    }
   ],
   "source": [
    "df['Review Length'].unique()"
   ]
  },
  {
   "cell_type": "code",
   "execution_count": 117,
   "id": "0fb4d199-a66e-4368-a688-10a7a318c002",
   "metadata": {},
   "outputs": [
    {
     "data": {
      "image/png": "[encoded data removed]",
      "text/plain": [
       "<Figure size 640x480 with 1 Axes>"
      ]
     },
     "metadata": {},
     "output_type": "display_data"
    }
   ],
   "source": [
    "sns.barplot(x=df['Review Length'],y=df['Aggregate rating'])\n",
    "plt.xlabel(\"Review Length\")\n",
    "plt.ylabel(\"Aggregate Rating\")\n",
    "plt.title(\"Relationship between review length and rating\")\n",
    "plt.show()"
   ]
  },
  {
   "cell_type": "markdown",
   "id": "2b61a089-ffef-4b6e-aa2f-27355fdfb1a4",
   "metadata": {},
   "source": [
    "## TASK 2\n"
   ]
  },
  {
   "cell_type": "markdown",
   "id": "d49443c3-68d4-4594-be90-5e862cb7dea0",
   "metadata": {},
   "source": [
    "#### Identify the restaurants with the highest and lowest number of votes.."
   ]
  },
  {
   "cell_type": "code",
   "execution_count": 141,
   "id": "b082be50-a217-46f0-95a9-f553b05c2198",
   "metadata": {},
   "outputs": [],
   "source": [
    "restaurant=df.groupby('Restaurant Name')['Votes'].sum().reset_index()"
   ]
  },
  {
   "cell_type": "code",
   "execution_count": 142,
   "id": "7c41bfcf-0a3f-41a3-bf88-e70dd9875edc",
   "metadata": {},
   "outputs": [],
   "source": [
    "restaurant=restaurant.sort_values(by='Votes',ascending=False)"
   ]
  },
  {
   "cell_type": "code",
   "execution_count": 143,
   "id": "0309e976-1164-43c3-a9c1-38a0d1012729",
   "metadata": {},
   "outputs": [
    {
     "name": "stdout",
     "output_type": "stream",
     "text": [
      "Restaurants with highest number of votes :\n"
     ]
    },
    {
     "data": {
      "text/html": [
       "<div>\n",
       "<style scoped>\n",
       "    .dataframe tbody tr th:only-of-type {\n",
       "        vertical-align: middle;\n",
       "    }\n",
       "\n",
       "    .dataframe tbody tr th {\n",
       "        vertical-align: top;\n",
       "    }\n",
       "\n",
       "    .dataframe thead th {\n",
       "        text-align: right;\n",
       "    }\n",
       "</style>\n",
       "<table border=\"1\" class=\"dataframe\">\n",
       "  <thead>\n",
       "    <tr style=\"text-align: right;\">\n",
       "      <th></th>\n",
       "      <th>Restaurant Name</th>\n",
       "      <th>Votes</th>\n",
       "    </tr>\n",
       "  </thead>\n",
       "  <tbody>\n",
       "    <tr>\n",
       "      <th>663</th>\n",
       "      <td>Barbeque Nation</td>\n",
       "      <td>28142</td>\n",
       "    </tr>\n",
       "    <tr>\n",
       "      <th>101</th>\n",
       "      <td>AB's - Absolute Barbecues</td>\n",
       "      <td>13400</td>\n",
       "    </tr>\n",
       "    <tr>\n",
       "      <th>6943</th>\n",
       "      <td>Toit</td>\n",
       "      <td>10934</td>\n",
       "    </tr>\n",
       "    <tr>\n",
       "      <th>785</th>\n",
       "      <td>Big Chill</td>\n",
       "      <td>10853</td>\n",
       "    </tr>\n",
       "    <tr>\n",
       "      <th>2297</th>\n",
       "      <td>Farzi Cafe</td>\n",
       "      <td>10098</td>\n",
       "    </tr>\n",
       "    <tr>\n",
       "      <th>6988</th>\n",
       "      <td>Truffles</td>\n",
       "      <td>9682</td>\n",
       "    </tr>\n",
       "    <tr>\n",
       "      <th>1510</th>\n",
       "      <td>Chili's</td>\n",
       "      <td>8156</td>\n",
       "    </tr>\n",
       "    <tr>\n",
       "      <th>2879</th>\n",
       "      <td>Hauz Khas Social</td>\n",
       "      <td>7931</td>\n",
       "    </tr>\n",
       "    <tr>\n",
       "      <th>3261</th>\n",
       "      <td>Joey's Pizza</td>\n",
       "      <td>7807</td>\n",
       "    </tr>\n",
       "    <tr>\n",
       "      <th>4902</th>\n",
       "      <td>Peter Cat</td>\n",
       "      <td>7574</td>\n",
       "    </tr>\n",
       "  </tbody>\n",
       "</table>\n",
       "</div>"
      ],
      "text/plain": [
       "                Restaurant Name  Votes\n",
       "663             Barbeque Nation  28142\n",
       "101   AB's - Absolute Barbecues  13400\n",
       "6943                       Toit  10934\n",
       "785                   Big Chill  10853\n",
       "2297                 Farzi Cafe  10098\n",
       "6988                   Truffles   9682\n",
       "1510                    Chili's   8156\n",
       "2879           Hauz Khas Social   7931\n",
       "3261               Joey's Pizza   7807\n",
       "4902                  Peter Cat   7574"
      ]
     },
     "execution_count": 143,
     "metadata": {},
     "output_type": "execute_result"
    }
   ],
   "source": [
    "print(\"Restaurants with highest number of votes :\")\n",
    "restaurant.head(10)"
   ]
  },
  {
   "cell_type": "code",
   "execution_count": 144,
   "id": "5252d878-ff62-4274-8cdf-202015743325",
   "metadata": {},
   "outputs": [
    {
     "name": "stdout",
     "output_type": "stream",
     "text": [
      "Restaurants with lowest number of votes :\n"
     ]
    },
    {
     "data": {
      "text/html": [
       "<div>\n",
       "<style scoped>\n",
       "    .dataframe tbody tr th:only-of-type {\n",
       "        vertical-align: middle;\n",
       "    }\n",
       "\n",
       "    .dataframe tbody tr th {\n",
       "        vertical-align: top;\n",
       "    }\n",
       "\n",
       "    .dataframe thead th {\n",
       "        text-align: right;\n",
       "    }\n",
       "</style>\n",
       "<table border=\"1\" class=\"dataframe\">\n",
       "  <thead>\n",
       "    <tr style=\"text-align: right;\">\n",
       "      <th></th>\n",
       "      <th>Restaurant Name</th>\n",
       "      <th>Votes</th>\n",
       "    </tr>\n",
       "  </thead>\n",
       "  <tbody>\n",
       "    <tr>\n",
       "      <th>3008</th>\n",
       "      <td>Hotel Green View Palace</td>\n",
       "      <td>0</td>\n",
       "    </tr>\n",
       "    <tr>\n",
       "      <th>6210</th>\n",
       "      <td>Sweetcake.in</td>\n",
       "      <td>0</td>\n",
       "    </tr>\n",
       "    <tr>\n",
       "      <th>3006</th>\n",
       "      <td>Hotel Delhi 43</td>\n",
       "      <td>0</td>\n",
       "    </tr>\n",
       "    <tr>\n",
       "      <th>6224</th>\n",
       "      <td>TAG</td>\n",
       "      <td>0</td>\n",
       "    </tr>\n",
       "    <tr>\n",
       "      <th>6220</th>\n",
       "      <td>Szoun Chinese Food</td>\n",
       "      <td>0</td>\n",
       "    </tr>\n",
       "    <tr>\n",
       "      <th>4375</th>\n",
       "      <td>Muncheezz</td>\n",
       "      <td>0</td>\n",
       "    </tr>\n",
       "    <tr>\n",
       "      <th>6217</th>\n",
       "      <td>Swiss Gourmessa</td>\n",
       "      <td>0</td>\n",
       "    </tr>\n",
       "    <tr>\n",
       "      <th>2110</th>\n",
       "      <td>Dosa and Pizza Corner</td>\n",
       "      <td>0</td>\n",
       "    </tr>\n",
       "    <tr>\n",
       "      <th>6215</th>\n",
       "      <td>Sweets n Treats</td>\n",
       "      <td>0</td>\n",
       "    </tr>\n",
       "    <tr>\n",
       "      <th>2433</th>\n",
       "      <td>Food Station</td>\n",
       "      <td>0</td>\n",
       "    </tr>\n",
       "  </tbody>\n",
       "</table>\n",
       "</div>"
      ],
      "text/plain": [
       "              Restaurant Name  Votes\n",
       "3008  Hotel Green View Palace      0\n",
       "6210             Sweetcake.in      0\n",
       "3006           Hotel Delhi 43      0\n",
       "6224                      TAG      0\n",
       "6220       Szoun Chinese Food      0\n",
       "4375                Muncheezz      0\n",
       "6217          Swiss Gourmessa      0\n",
       "2110    Dosa and Pizza Corner      0\n",
       "6215          Sweets n Treats      0\n",
       "2433             Food Station      0"
      ]
     },
     "execution_count": 144,
     "metadata": {},
     "output_type": "execute_result"
    }
   ],
   "source": [
    "print(\"Restaurants with lowest number of votes :\")\n",
    "restaurant.tail(10)"
   ]
  },
  {
   "cell_type": "markdown",
   "id": "6d77822e-9199-4fbd-8bf0-47103e7db495",
   "metadata": {},
   "source": [
    "#### Analyze if there is a correlation between the number of votes and the rating of a restaurant."
   ]
  },
  {
   "cell_type": "code",
   "execution_count": 150,
   "id": "57f62258-cc95-451d-b5af-ad5760adcb3c",
   "metadata": {},
   "outputs": [
    {
     "name": "stdout",
     "output_type": "stream",
     "text": [
      "                     Votes  Aggregate rating\n",
      "Votes             1.000000          0.313691\n",
      "Aggregate rating  0.313691          1.000000\n"
     ]
    },
    {
     "data": {
      "image/png": "[encoded data removed]",
      "text/plain": [
       "<Figure size 800x600 with 2 Axes>"
      ]
     },
     "metadata": {},
     "output_type": "display_data"
    }
   ],
   "source": [
    "corr_matrix=df[['Votes','Aggregate rating']].corr()\n",
    "print(corr_matrix)\n",
    "plt.figure(figsize=(8, 6))\n",
    "sns.heatmap(corr_matrix,annot=True,cmap='coolwarm',vmin=-1, vmax=1)\n",
    "plt.title('Correlation Heatmap between Votes and Rating')\n",
    "plt.show()"
   ]
  },
  {
   "cell_type": "markdown",
   "id": "46427c24-729c-457b-ad3a-474e9b0917e5",
   "metadata": {},
   "source": [
    "#### There is a correlation between Votes and Aggregate raing but it is WEAK POSITIVE CORRELATION"
   ]
  },
  {
   "cell_type": "code",
   "execution_count": null,
   "id": "4f724867-de24-4207-ad2f-a7a3084ecde6",
   "metadata": {},
   "outputs": [],
   "source": []
  }
 ],
 "metadata": {
  "kernelspec": {
   "display_name": "Python 3 (ipykernel)",
   "language": "python",
   "name": "python3"
  },
  "language_info": {
   "codemirror_mode": {
    "name": "ipython",
    "version": 3
   },
   "file_extension": ".py",
   "mimetype": "text/x-python",
   "name": "python",
   "nbconvert_exporter": "python",
   "pygments_lexer": "ipython3",
   "version": "3.11.7"
  }
 },
 "nbformat": 4,
 "nbformat_minor": 5
}
